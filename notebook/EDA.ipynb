{
 "cells": [
  {
   "cell_type": "markdown",
   "id": "bcf5c9c9",
   "metadata": {},
   "source": [
    "# Student Performance Indicator"
   ]
  },
  {
   "cell_type": "markdown",
   "id": "254e7c03",
   "metadata": {},
   "source": [
    "### 1. Problem Statement\n",
    "This project helps in understanding how the students' scores are affected by a number of factors (like Gender, Parental level of education, Ethnicity, Test preparation course etc.).\n",
    "\n",
    "### Dataset source:\n",
    "https://www.kaggle.com/datasets/spscientist/students-performance-in-exams?datasetId=74977"
   ]
  },
  {
   "cell_type": "markdown",
   "id": "81d8c5c9",
   "metadata": {},
   "source": [
    "### IMPORTING DATA AND LIBRARIES"
   ]
  },
  {
   "cell_type": "code",
   "execution_count": null,
   "id": "217c695b",
   "metadata": {},
   "outputs": [],
   "source": [
    "import numpy as np\n",
    "import pandas as pd\n",
    "import matplotlib.pyplot as plt\n",
    "%matplotlib inline\n",
    "import seaborn as sns\n",
    "import warnings\n",
    "warnings.filterwarnings('ignore')"
   ]
  },
  {
   "cell_type": "code",
   "execution_count": null,
   "id": "ee3d0611",
   "metadata": {},
   "outputs": [],
   "source": [
    "# Creating a pandas dataframe from the imported data\n",
    "df = pd.read_csv('data/stud.csv')"
   ]
  },
  {
   "cell_type": "code",
   "execution_count": null,
   "id": "2231a4c1",
   "metadata": {},
   "outputs": [],
   "source": [
    "df.head()"
   ]
  },
  {
   "cell_type": "code",
   "execution_count": null,
   "id": "d94a0883",
   "metadata": {},
   "outputs": [],
   "source": [
    "print(\"Shape of the dataset is\")\n",
    "df.shape"
   ]
  },
  {
   "cell_type": "markdown",
   "id": "235d79da",
   "metadata": {},
   "source": [
    "### PERFORMING DATA CHECKS"
   ]
  },
  {
   "cell_type": "markdown",
   "id": "fce3a5f4",
   "metadata": {},
   "source": [
    "#### 1. Checking for missing values"
   ]
  },
  {
   "cell_type": "code",
   "execution_count": null,
   "id": "340c4f85",
   "metadata": {},
   "outputs": [],
   "source": [
    "df.isna().sum()\n",
    "# df.isnull().sum() ------ can also write this"
   ]
  },
  {
   "cell_type": "markdown",
   "id": "e6000d14",
   "metadata": {},
   "source": [
    "There are no missing values in the dataset."
   ]
  },
  {
   "cell_type": "markdown",
   "id": "93e35804",
   "metadata": {},
   "source": [
    "#### 2. Checking for duplicates"
   ]
  },
  {
   "cell_type": "code",
   "execution_count": null,
   "id": "a9b3b787",
   "metadata": {},
   "outputs": [],
   "source": [
    "df.duplicated().sum()"
   ]
  },
  {
   "cell_type": "markdown",
   "id": "066b9136",
   "metadata": {},
   "source": [
    "There are no duplicates present in the dataset."
   ]
  },
  {
   "cell_type": "markdown",
   "id": "556c4798",
   "metadata": {},
   "source": [
    "#### 3. Check datatypes"
   ]
  },
  {
   "cell_type": "code",
   "execution_count": null,
   "id": "de035607",
   "metadata": {},
   "outputs": [],
   "source": [
    "df.info()"
   ]
  },
  {
   "cell_type": "markdown",
   "id": "0f86903c",
   "metadata": {},
   "source": [
    "#### 4. Checking the number of unique values of each column"
   ]
  },
  {
   "cell_type": "code",
   "execution_count": null,
   "metadata": {},
   "outputs": [],
   "source": [
    "df.nunique()"
   ]
  },
  {
   "cell_type": "markdown",
   "id": "1a93f616",
   "metadata": {},
   "source": [
    "#### 5. Check statistics of data set"
   ]
  },
  {
   "cell_type": "code",
   "execution_count": null,
   "metadata": {},
   "outputs": [],
   "source": [
    "df.describe()"
   ]
  },
  {
   "cell_type": "markdown",
   "id": "caa93482",
   "metadata": {},
   "source": [
    "#### 6. Exploring Data"
   ]
  },
  {
   "cell_type": "code",
   "execution_count": null,
   "metadata": {},
   "outputs": [],
   "source": [
    "df.head()"
   ]
  },
  {
   "cell_type": "markdown",
   "id": "c0181af3",
   "metadata": {},
   "source": [
    "#### 7. Checking various categories present in the different categorical column"
   ]
  },
  {
   "cell_type": "code",
   "execution_count": null,
   "id": "5b6c3d78",
   "metadata": {},
   "outputs": [],
   "source": [
    "print(\"Categories in 'gender' variable:\",end=\" \" )\n",
    "print(df['gender'].unique())\n",
    "\n",
    "print(\"Categories in 'race ethnicity' variable:\",end=\" \")\n",
    "print(df['race_ethnicity'].unique())\n",
    "\n",
    "print(\"Categories in'parental level of education' variable:\",end=\" \" )\n",
    "print(df['parental_level_of_education'].unique())\n",
    "\n",
    "print(\"Categories in 'lunch' variable:\",end=\" \" )\n",
    "print(df['lunch'].unique())\n",
    "\n",
    "print(\"Categories in 'test preparation course' variable:\",end=\" \" )\n",
    "print(df['test_preparation_course'].unique())"
   ]
  },
  {
   "cell_type": "markdown",
   "id": "8da666c8",
   "metadata": {},
   "source": [
    "#### 8. Defining the numerical & categorical columns"
   ]
  },
  {
   "cell_type": "code",
   "execution_count": null,
   "id": "920d5d48",
   "metadata": {},
   "outputs": [],
   "source": [
    "numeric_features = [feature for feature in df.columns if df[feature].dtype != 'O']\n",
    "categorical_features = [feature for feature in df.columns if df[feature].dtype == 'O']\n",
    "\n",
    "# print columns\n",
    "print(f'We have {len(numeric_features)} numerical features : {numeric_features}')\n",
    "print(f'\\nWe have {len(categorical_features)} categorical features : {categorical_features}')"
   ]
  },
  {
   "cell_type": "markdown",
   "id": "f19e20c4",
   "metadata": {},
   "source": [
    "##### 9. Adding 'total score' and 'average' columns"
   ]
  },
  {
   "cell_type": "code",
   "execution_count": null,
   "id": "bb32b28b",
   "metadata": {},
   "outputs": [],
   "source": [
    "df['total score'] = df['math_score'] + df['reading_score'] + df['writing_score']\n",
    "df['average'] = df['total score']/3\n",
    "df.head()"
   ]
  },
  {
   "cell_type": "markdown",
   "id": "8eb6a62b",
   "metadata": {},
   "source": [
    "#### 10. Printing the number of students with full marks and < 20 marks in math, reading and writing"
   ]
  },
  {
   "cell_type": "code",
   "execution_count": null,
   "id": "73100ffa",
   "metadata": {},
   "outputs": [],
   "source": [
    "reading_full = df[df['reading_score'] == 100]['average'].count()\n",
    "writing_full = df[df['writing_score'] == 100]['average'].count()\n",
    "math_full = df[df['math_score'] == 100]['average'].count()\n",
    "\n",
    "print(f'Number of students with full marks in Maths: {math_full}')\n",
    "print(f'Number of students with full marks in Writing: {writing_full}')\n",
    "print(f'Number of students with full marks in Reading: {reading_full}')"
   ]
  },
  {
   "cell_type": "code",
   "execution_count": null,
   "id": "44925d65",
   "metadata": {},
   "outputs": [],
   "source": [
    "reading_less_20 = df[df['reading_score'] <= 20]['average'].count()\n",
    "writing_less_20 = df[df['writing_score'] <= 20]['average'].count()\n",
    "math_less_20 = df[df['math_score'] <= 20]['average'].count()\n",
    "\n",
    "print(f'Number of students with less than 20 marks in Maths: {math_less_20}')\n",
    "print(f'Number of students with less than 20 marks in Writing: {writing_less_20}')\n",
    "print(f'Number of students with less than 20 marks in Reading: {reading_less_20}')"
   ]
  },
  {
   "cell_type": "markdown",
   "id": "bedb3217",
   "metadata": {},
   "source": [
    "### VISUALIZING THE DATA"
   ]
  },
  {
   "cell_type": "markdown",
   "id": "caec1d1a",
   "metadata": {},
   "source": [
    "#### 1. Histogram and KDE plot"
   ]
  },
  {
   "cell_type": "code",
   "execution_count": null,
   "id": "fd4d0da3",
   "metadata": {},
   "outputs": [],
   "source": [
    "fig, axs = plt.subplots(1, 2, figsize=(15, 7))\n",
    "plt.subplot(121)\n",
    "sns.histplot(data=df,x='average',bins=30,kde=True,color='b')\n",
    "plt.subplot(122)\n",
    "sns.histplot(data=df,x='average',kde=True,hue='gender')\n",
    "plt.show()"
   ]
  },
  {
   "cell_type": "code",
   "execution_count": null,
   "id": "24122bef",
   "metadata": {},
   "outputs": [],
   "source": [
    "fig, axs = plt.subplots(1, 2, figsize=(15, 7))\n",
    "plt.subplot(121)\n",
    "sns.histplot(data=df,x='total score',bins=30,kde=True,color='b')\n",
    "plt.subplot(122)\n",
    "sns.histplot(data=df,x='total score',kde=True,hue='gender')\n",
    "plt.show()"
   ]
  },
  {
   "cell_type": "markdown",
   "id": "6b4bcd7f",
   "metadata": {},
   "source": [
    "__Insights__\n",
    "<br>\n",
    "- Female students tend to perform well then male students."
   ]
  },
  {
   "cell_type": "code",
   "execution_count": null,
   "id": "989b76da",
   "metadata": {},
   "outputs": [],
   "source": [
    "plt.subplots(1,3,figsize=(25,10))\n",
    "plt.subplot(131)\n",
    "sns.histplot(data=df,x='average',kde=True,hue='lunch')\n",
    "plt.subplot(132)\n",
    "sns.histplot(data=df[df.gender=='female'],x='average',kde=True,hue='lunch')\n",
    "plt.subplot(133)\n",
    "sns.histplot(data=df[df.gender=='male'],x='average',kde=True,hue='lunch')\n",
    "plt.show()"
   ]
  },
  {
   "cell_type": "markdown",
   "id": "7cbe2d67",
   "metadata": {},
   "source": [
    "__Insights__\n",
    "<br>\n",
    "- Standard lunch helps perform well in exams.\n",
    "- Standard lunch helps perform well in exams be it a male or a female."
   ]
  },
  {
   "cell_type": "code",
   "execution_count": null,
   "id": "df37837c",
   "metadata": {},
   "outputs": [],
   "source": [
    "plt.subplots(1,3,figsize=(30,15))\n",
    "plt.subplot(131)\n",
    "ax =sns.histplot(data=df,x='average',kde=True,hue='parental_level_of_education')\n",
    "plt.subplot(132)\n",
    "ax =sns.histplot(data=df[df.gender=='male'],x='average',kde=True,hue='parental_level_of_education')\n",
    "plt.subplot(133)\n",
    "ax =sns.histplot(data=df[df.gender=='female'],x='average',kde=True,hue='parental_level_of_education')\n",
    "plt.show()"
   ]
  },
  {
   "cell_type": "markdown",
   "id": "3736da35",
   "metadata": {},
   "source": [
    "__Insights__\n",
    "<br>\n",
    "- In general parent's education don't help student perform well in exam.\n",
    "- 2nd plot shows that parent's whose education is of associate's degree or master's degree their male child tend to perform well in exam\n",
    "- 3rd plot we can see there is no effect of parent's education on female students."
   ]
  },
  {
   "cell_type": "code",
   "execution_count": null,
   "id": "5408e914",
   "metadata": {},
   "outputs": [],
   "source": [
    "plt.subplots(1,3,figsize=(30,15))\n",
    "plt.subplot(131)\n",
    "ax =sns.histplot(data=df,x='average',kde=True,hue='race_ethnicity')\n",
    "plt.subplot(132)\n",
    "ax =sns.histplot(data=df[df.gender=='female'],x='average',kde=True,hue='race_ethnicity')\n",
    "plt.subplot(133)\n",
    "ax =sns.histplot(data=df[df.gender=='male'],x='average',kde=True,hue='race_ethnicity')\n",
    "plt.show()"
   ]
  },
  {
   "cell_type": "markdown",
   "id": "b5d024bb",
   "metadata": {},
   "source": [
    "__Insights__\n",
    "<br>\n",
    "- Students of group A and group B tends to perform poorly in exam.\n",
    "- Students of group A and group B tends to perform poorly in exam irrespective of whether they are male or female"
   ]
  },
  {
   "cell_type": "markdown",
   "id": "2ec51c7a",
   "metadata": {},
   "source": [
    "#### 2. Maximumum score of students in all three subjects"
   ]
  },
  {
   "cell_type": "code",
   "execution_count": null,
   "id": "4192059a",
   "metadata": {},
   "outputs": [],
   "source": [
    "plt.figure(figsize=(18,8))\n",
    "plt.subplot(131)\n",
    "plt.title('MATH SCORES')\n",
    "sns.violinplot(y='math_score',data=df,color='#7dff52',linewidth=2)\n",
    "plt.subplot(132)\n",
    "plt.title('READING SCORES')\n",
    "sns.violinplot(y='reading_score',data=df,color='#d452ff',linewidth=3)\n",
    "plt.subplot(133)\n",
    "plt.title('WRITING SCORES')\n",
    "sns.violinplot(y='writing_score',data=df,color='#ffa852',linewidth=3)\n",
    "plt.show()"
   ]
  },
  {
   "cell_type": "markdown",
   "id": "4379cc1f",
   "metadata": {},
   "source": [
    "__Insights__\n",
    "<br>\n",
    "- From the above three plots its clearly visible that most of the students score in between 60-80 in Maths whereas in reading and writing most of them score from 50-80"
   ]
  },
  {
   "cell_type": "markdown",
   "id": "fd16459a",
   "metadata": {},
   "source": [
    "#### 3. Multivariate analysis using pieplot"
   ]
  },
  {
   "cell_type": "code",
   "execution_count": null,
   "id": "44529f3b",
   "metadata": {},
   "outputs": [],
   "source": [
    "plt.rcParams['figure.figsize'] = (50, 30)\n",
    "\n",
    "plt.subplot(1, 5, 1)\n",
    "size = df['gender'].value_counts()\n",
    "labels = 'Female', 'Male'\n",
    "color = ['#ffafcc','#a2d2ff']\n",
    "plt.pie(size, colors = color, labels = labels, autopct = '.%2f%%')\n",
    "plt.title('Gender', fontsize = 30)\n",
    "plt.axis('off')\n",
    "\n",
    "\n",
    "\n",
    "plt.subplot(1, 5, 2)\n",
    "size = df['race_ethnicity'].value_counts()\n",
    "labels = 'Group C', 'Group D','Group B','Group E','Group A'\n",
    "color = ['#ffd670', '#ff70a6', '#70d6ff', '#e9ff70','#ff9770']\n",
    "plt.pie(size, colors = color,labels = labels,autopct = '.%2f%%')\n",
    "plt.title('Race/Ethnicity', fontsize = 30)\n",
    "plt.axis('off')\n",
    "\n",
    "\n",
    "\n",
    "plt.subplot(1, 5, 3)\n",
    "size = df['lunch'].value_counts()\n",
    "labels = 'Standard', 'Free'\n",
    "color = ['#118ab2','#06d6a0']\n",
    "plt.pie(size, colors = color,labels = labels,autopct = '.%2f%%')\n",
    "plt.title('Lunch', fontsize = 30)\n",
    "plt.axis('off')\n",
    "\n",
    "\n",
    "plt.subplot(1, 5, 4)\n",
    "size = df['test_preparation_course'].value_counts()\n",
    "labels = 'None', 'Completed'\n",
    "color = ['#ef233c','#80ed99']\n",
    "plt.pie(size, colors = color,labels = labels,autopct = '.%2f%%')\n",
    "plt.title('Test Course', fontsize = 30)\n",
    "plt.axis('off')\n",
    "\n",
    "\n",
    "plt.subplot(1, 5, 5)\n",
    "size = df['parental_level_of_education'].value_counts()\n",
    "labels = 'Some College', \"Associate's Degree\",'High School','Some High School',\"Bachelor's Degree\",\"Master's Degree\"\n",
    "color = ['#d9ed92', '#b5e48c', '#99d98c', '#76c893','#52b69a','#34a0a4']\n",
    "plt.pie(size, colors = color,labels = labels,autopct = '.%2f%%')\n",
    "plt.title('Parental Education', fontsize = 30)\n",
    "plt.axis('off')\n",
    "\n",
    "\n",
    "plt.tight_layout()\n",
    "plt.grid()\n",
    "plt.show()"
   ]
  },
  {
   "cell_type": "markdown",
   "id": "254e515a",
   "metadata": {},
   "source": [
    "__Insights__\n",
    "<br>\n",
    "- Number of Male and Female students is almost equal\n",
    "- Number students are greatest in Group C\n",
    "- Number of students who have standard lunch are greater\n",
    "- Number of students who have not enrolled in any test preparation course is greater\n",
    "- Number of students whose parental education is \"Some College\" is greater followed closely by \"Associate's Degree\""
   ]
  },
  {
   "cell_type": "markdown",
   "id": "7cb426a0",
   "metadata": {},
   "source": [
    "#### 4. Feature wise visualisation"
   ]
  },
  {
   "cell_type": "markdown",
   "id": "5c1a5dfd",
   "metadata": {},
   "source": [
    "4.1. On the basis of Gender<br>\n",
    "- How is the data distributed according to gender? (univariate analysis)\n",
    "- Does gender affect students' performance? (bivariate analysis)"
   ]
  },
  {
   "cell_type": "code",
   "execution_count": null,
   "id": "5899c04d",
   "metadata": {},
   "outputs": [],
   "source": [
    "# univariate analysis\n",
    "f,ax=plt.subplots(1,2,figsize=(20,10))\n",
    "sns.countplot(x=df['gender'],data=df,palette ='bright',ax=ax[0],saturation=0.95)\n",
    "for container in ax[0].containers:\n",
    "    ax[0].bar_label(container,color='black',size=20)\n",
    "    \n",
    "plt.pie(x=df['gender'].value_counts(),labels=df['gender'].value_counts().index,explode=[0,0.1],autopct='%1.1f%%',shadow=True,colors=['#ff4d4d','#ff8000'])\n",
    "plt.show()"
   ]
  },
  {
   "cell_type": "markdown",
   "id": "bfd3516b",
   "metadata": {},
   "source": [
    "__Insights__\n",
    "<br>\n",
    "- Gender has near balanced data with 51.8% female and 48.2% male students."
   ]
  },
  {
   "cell_type": "code",
   "execution_count": null,
   "id": "34af5ab8",
   "metadata": {},
   "outputs": [],
   "source": [
    "# bivariate analysis\n",
    "\n",
    "# Group the data by gender and calculate the mean of numeric columns\n",
    "gender_group = df.groupby('gender').mean(numeric_only=True)\n",
    "gender_group\n",
    "plt.figure(figsize=(10, 8))\n",
    "\n",
    "X = ['Total Average','Math Average']\n",
    "\n",
    "# Extract average and math scores for females (row index 0)\n",
    "female_scores = [gender_group['average'][0], gender_group['math_score'][0]]\n",
    "\n",
    "# Extract average and math scores for males (row index 1)\n",
    "male_scores = [gender_group['average'][1], gender_group['math_score'][1]]\n",
    "\n",
    "# X-axis positions for the grouped bar chart\n",
    "X_axis = np.arange(len(X))\n",
    "  \n",
    "# Draw two bars per category, side-by-side.\n",
    "# Male bars are slightly shifted to the left of the X tick (-0.2)\n",
    "# Female bars are slightly shifted to the right of the X tick (+0.2)\n",
    "# 0.4 is the width of each bar\n",
    "# label='...' is used in the legend.\n",
    "plt.bar(X_axis - 0.2, male_scores, 0.4, label = 'Male')\n",
    "plt.bar(X_axis + 0.2, female_scores, 0.4, label = 'Female')\n",
    "  \n",
    "plt.xticks(X_axis, X)\n",
    "plt.ylabel(\"Marks\")\n",
    "plt.title(\"Total average v/s Math average marks of both the genders\", fontweight='bold')\n",
    "plt.legend()\n",
    "plt.show()"
   ]
  },
  {
   "cell_type": "markdown",
   "id": "e669c9f1",
   "metadata": {},
   "source": [
    "__Insights__\n",
    "<br>\n",
    "- On an average, females have a better overall score than males whereas males have scored higher in Maths."
   ]
  },
  {
   "cell_type": "markdown",
   "id": "30a87b60",
   "metadata": {},
   "source": [
    "4.2. On the basis of Race/Ethnicity<br>\n",
    "- How is the data distributed according to race/ethnicity? (univariate analysis)\n",
    "- Does it has any impact on the students' performance? (bivariate analysis)"
   ]
  },
  {
   "cell_type": "code",
   "execution_count": null,
   "id": "2d770065",
   "metadata": {},
   "outputs": [],
   "source": [
    "# univariate analysis\n",
    "f,ax=plt.subplots(1,2,figsize=(20,10))\n",
    "sns.countplot(x=df['race_ethnicity'],data=df,palette = 'bright',ax=ax[0],saturation=0.95)\n",
    "for container in ax[0].containers:\n",
    "    ax[0].bar_label(container,color='black',size=20)\n",
    "    \n",
    "plt.pie(x = df['race_ethnicity'].value_counts(),labels=df['race_ethnicity'].value_counts().index,explode=[0.1,0,0,0,0],autopct='%1.1f%%',shadow=True)\n",
    "plt.show()"
   ]
  },
  {
   "cell_type": "markdown",
   "id": "81e29411",
   "metadata": {},
   "source": [
    "__Insights__\n",
    "<br>\n",
    "- Most of the student belonging from group C /group D.\n",
    "- Lowest number of students belong to groupA."
   ]
  },
  {
   "cell_type": "code",
   "execution_count": null,
   "id": "2ca469b7",
   "metadata": {},
   "outputs": [],
   "source": [
    "# bivariate analysis\n",
    "Group_data2=df.groupby('race_ethnicity')\n",
    "f,ax=plt.subplots(1,3,figsize=(20,8))\n",
    "\n",
    "sns.barplot(x=Group_data2['math_score'].mean().index,y=Group_data2['math_score'].mean().values,palette = 'mako',ax=ax[0])\n",
    "ax[0].set_title('Math score',color='#005ce6',size=20)\n",
    "\n",
    "for container in ax[0].containers:\n",
    "    ax[0].bar_label(container,color='black',size=15)\n",
    "\n",
    "sns.barplot(x=Group_data2['reading_score'].mean().index,y=Group_data2['reading_score'].mean().values,palette = 'flare',ax=ax[1])\n",
    "ax[1].set_title('Reading score',color='#005ce6',size=20)\n",
    "\n",
    "for container in ax[1].containers:\n",
    "    ax[1].bar_label(container,color='black',size=15)\n",
    "\n",
    "sns.barplot(x=Group_data2['writing_score'].mean().index,y=Group_data2['writing_score'].mean().values,palette = 'coolwarm',ax=ax[2])\n",
    "ax[2].set_title('Writing score',color='#005ce6',size=20)\n",
    "\n",
    "for container in ax[2].containers:\n",
    "    ax[2].bar_label(container,color='black',size=15)"
   ]
  },
  {
   "cell_type": "markdown",
   "id": "bc7e7763",
   "metadata": {},
   "source": [
    "__Insights__\n",
    "<br>\n",
    "- Group E students have scored the highest marks.\n",
    "- Group A students have scored the lowest marks.\n",
    "- Students from a lower Socioeconomic status have a lower avg in all course subjects"
   ]
  },
  {
   "cell_type": "markdown",
   "id": "0d819f28",
   "metadata": {},
   "source": [
    "4.3. On the basis of Parental Level of Education<br>\n",
    "- What is the educational background of the studnet's parent? (univariate analysis)\n",
    "- Does it affect the students' performance? (bivariate analysis)"
   ]
  },
  {
   "cell_type": "code",
   "execution_count": null,
   "id": "581e4479",
   "metadata": {},
   "outputs": [],
   "source": [
    "# univariate analysis\n",
    "plt.rcParams['figure.figsize'] = (15, 9)\n",
    "plt.style.use('fivethirtyeight')\n",
    "sns.countplot(df['parental_level_of_education'], palette = 'Blues')\n",
    "plt.title('Comparison of Parental Education', fontweight = 30, fontsize = 20)\n",
    "plt.xlabel('Degree')\n",
    "plt.ylabel('count')\n",
    "plt.show()"
   ]
  },
  {
   "cell_type": "markdown",
   "id": "8ec0c9aa",
   "metadata": {},
   "source": [
    "__Insights__\n",
    "<br>\n",
    "- Largest number of parents are from some college."
   ]
  },
  {
   "cell_type": "code",
   "execution_count": null,
   "id": "a20f364e",
   "metadata": {},
   "outputs": [],
   "source": [
    "# bivariate analysis\n",
    "df.groupby('parental_level_of_education').mean(numeric_only=True).plot(kind='barh',figsize=(10,10))\n",
    "plt.legend(bbox_to_anchor=(1.05, 1), loc=2, borderaxespad=0.)\n",
    "plt.show()"
   ]
  },
  {
   "cell_type": "markdown",
   "id": "be658898",
   "metadata": {},
   "source": [
    "__Insights__\n",
    "<br>\n",
    "- The score of student whose parents possess master and bachelor level education are higher than others."
   ]
  },
  {
   "cell_type": "markdown",
   "id": "555c5bec",
   "metadata": {},
   "source": [
    "4.4. On the basis of Lunch<br>\n",
    "- Which type of lunch is common among the students? (univariate analysis)\n",
    "- What effect does it have on the performance? (bivariate analysis)"
   ]
  },
  {
   "cell_type": "code",
   "execution_count": null,
   "id": "c127d9e5",
   "metadata": {},
   "outputs": [],
   "source": [
    "# univariate analysis\n",
    "sns.set_theme(style='whitegrid', context='talk')\n",
    "plt.rcParams['figure.figsize'] = (15, 9)\n",
    "# plt.style.use('seaborn-whitegrid')\n",
    "sns.countplot(x = df['lunch'], data = df, palette = 'PuBu')\n",
    "plt.title('Comparison of different types of lunch', fontweight = 30, fontsize = 20)\n",
    "plt.xlabel('types of lunch')\n",
    "plt.ylabel('count')\n",
    "plt.show()"
   ]
  },
  {
   "cell_type": "markdown",
   "id": "c2f76219",
   "metadata": {},
   "source": [
    "__Insights__\n",
    "<br>\n",
    "- Students being served Standard lunch was more than free lunch"
   ]
  },
  {
   "cell_type": "code",
   "execution_count": null,
   "id": "8565de79",
   "metadata": {},
   "outputs": [],
   "source": [
    "# bivariate analysis\n",
    "f,ax=plt.subplots(1,2,figsize=(20,8))\n",
    "sns.countplot(x=df['parental_level_of_education'],data=df,palette = 'bright',hue='test_preparation_course',saturation=0.95,ax=ax[0])\n",
    "ax[0].set_title('Students vs test preparation course ',color='black',size=25)\n",
    "for container in ax[0].containers:\n",
    "    ax[0].bar_label(container,color='black',size=20)\n",
    "    \n",
    "sns.countplot(x=df['parental_level_of_education'],data=df,palette = 'bright',hue='lunch',saturation=0.95,ax=ax[1])\n",
    "for container in ax[1].containers:\n",
    "    ax[1].bar_label(container,color='black',size=20)   "
   ]
  },
  {
   "cell_type": "markdown",
   "id": "108fd3f0",
   "metadata": {},
   "source": [
    "__Insights__\n",
    "<br>\n",
    "- Students who get Standard Lunch tend to perform better than students who got free/reduced lunch"
   ]
  },
  {
   "cell_type": "markdown",
   "id": "6eca4e37",
   "metadata": {},
   "source": [
    "4.5. On the basis of Test Preparation Course<br>\n",
    "- How is the data distributed according to race/ethnicity? (univariate analysis)\n",
    "- How the test preparation course affect the result of the student? (bivariate analysis)"
   ]
  },
  {
   "cell_type": "code",
   "execution_count": null,
   "id": "88e817a4",
   "metadata": {},
   "outputs": [],
   "source": [
    "plt.figure(figsize=(12,6))\n",
    "plt.subplot(2,2,1)\n",
    "sns.barplot (x=df['lunch'], y=df['math_score'], hue=df['test_preparation_course'])\n",
    "plt.subplot(2,2,2)\n",
    "sns.barplot (x=df['lunch'], y=df['reading_score'], hue=df['test_preparation_course'])\n",
    "plt.subplot(2,2,3)\n",
    "sns.barplot (x=df['lunch'], y=df['writing_score'], hue=df['test_preparation_course'])"
   ]
  },
  {
   "cell_type": "markdown",
   "id": "309edaf9",
   "metadata": {},
   "source": [
    "__Insights__\n",
    "<br>\n",
    "- Students who have completed the Test Prepration Course have scores higher in all three categories than those who haven't taken the course"
   ]
  },
  {
   "cell_type": "markdown",
   "id": "bbc8bb2f",
   "metadata": {},
   "source": [
    "4.6. Checking the ouliers<br>"
   ]
  },
  {
   "cell_type": "code",
   "execution_count": null,
   "id": "60125262",
   "metadata": {},
   "outputs": [],
   "source": [
    "plt.subplots(1,4,figsize=(16,5))\n",
    "plt.subplot(141)\n",
    "sns.boxplot(df['math_score'],color='skyblue')\n",
    "plt.subplot(142)\n",
    "sns.boxplot(df['reading_score'],color='hotpink')\n",
    "plt.subplot(143)\n",
    "sns.boxplot(df['writing_score'],color='yellow')\n",
    "plt.subplot(144)\n",
    "sns.boxplot(df['average'],color='lightgreen')\n",
    "plt.show()"
   ]
  },
  {
   "cell_type": "markdown",
   "id": "cad721da",
   "metadata": {},
   "source": [
    "4.7. Multivariate analysis using pairplot<br>"
   ]
  },
  {
   "cell_type": "code",
   "execution_count": null,
   "id": "23cbad34",
   "metadata": {},
   "outputs": [],
   "source": [
    "sns.pairplot(df,hue = 'gender')\n",
    "plt.show()"
   ]
  },
  {
   "cell_type": "markdown",
   "id": "f5057376",
   "metadata": {},
   "source": [
    "__Insights__\n",
    "<br>\n",
    "- From the above plot it is clear that all the scores increase linearly with each other."
   ]
  },
  {
   "cell_type": "markdown",
   "id": "5ec5f091",
   "metadata": {},
   "source": [
    "#### 5. Conclusions\n",
    "- Student's Performance is related with lunch, race, parental level education\n",
    "- Females lead in pass percentage and also are top-scorers\n",
    "- Student's Performance is not much related with test preparation course\n",
    "- Finishing preparation course is benefitial."
   ]
  }
 ],
 "metadata": {
  "kernelspec": {
   "display_name": "Student Performance Project venv)",
   "language": "python",
   "name": "venv"
  },
  "language_info": {
   "codemirror_mode": {
    "name": "ipython",
    "version": 3
   },
   "file_extension": ".py",
   "mimetype": "text/x-python",
   "name": "python",
   "nbconvert_exporter": "python",
   "pygments_lexer": "ipython3",
   "version": "3.12.4"
  }
 },
 "nbformat": 4,
 "nbformat_minor": 5
}
